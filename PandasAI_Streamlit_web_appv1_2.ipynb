{
  "nbformat": 4,
  "nbformat_minor": 0,
  "metadata": {
    "colab": {
      "provenance": [],
      "authorship_tag": "ABX9TyOwh7tpQwT6ESj5Hptn9cXN",
      "include_colab_link": true
    },
    "kernelspec": {
      "name": "python3",
      "display_name": "Python 3"
    },
    "language_info": {
      "name": "python"
    }
  },
  "cells": [
    {
      "cell_type": "markdown",
      "metadata": {
        "id": "view-in-github",
        "colab_type": "text"
      },
      "source": [
        "<a href=\"https://colab.research.google.com/github/Courage-7/PandasAI-Project-For-EDA/blob/main/PandasAI_Streamlit_web_appv1_2.ipynb\" target=\"_parent\"><img src=\"https://colab.research.google.com/assets/colab-badge.svg\" alt=\"Open In Colab\"/></a>"
      ]
    },
    {
      "cell_type": "code",
      "execution_count": 1,
      "metadata": {
        "id": "RBGg4VafmdrL"
      },
      "outputs": [],
      "source": []
    },
    {
      "cell_type": "code",
      "source": [
        "import pandas as pd\n",
        "import streamlit as st\n",
        "from pandasai import PandasAI\n",
        "from pandasai.agent.agent import Agent\n",
        "from pandasai.ee.agents.semantic_agent import SemanticAgent\n",
        "from pandasai import SmartDataframe\n",
        "import os\n",
        "\n",
        "# Streamlit App Setup\n",
        "st.title(\"Dataset Explorer with PandasAI\")\n",
        "st.write(\"Upload a dataset and start asking natural language questions to explore insights.\")\n",
        "\n",
        "# API Key Input\n",
        "api_key = st.sidebar.text_input(\"Enter your PandasAI API Key\", type=\"password\")\n",
        "if not api_key:\n",
        "    st.warning(\"Please enter an API key to proceed.\")\n",
        "else:\n",
        "    os.environ['PANDASAI_API_KEY'] = api_key\n",
        "\n",
        "# Upload Dataset\n",
        "uploaded_file = st.file_uploader(\"Upload your CSV file\", type=[\"csv\"])\n",
        "if uploaded_file is not None:\n",
        "    df = pd.read_csv(uploaded_file)\n",
        "    st.write(\"Dataset preview:\", df.head())\n",
        "\n",
        "    # Display sample data\n",
        "    st.write(df.sample(10))\n",
        "\n",
        "    # Initialize PandasAI with the uploaded dataframe\n",
        "    sdf = SmartDataframe(df)\n",
        "\n",
        "    # Initialize session state for storing queries and answers\n",
        "    if \"query_history\" not in st.session_state:\n",
        "        st.session_state.query_history = []\n",
        "\n",
        "    # Query Input\n",
        "    query = st.text_input(\"Ask your dataset question:\")\n",
        "\n",
        "    if query:\n",
        "        # Use SemanticAgent for better understanding of natural queries\n",
        "        agent = SemanticAgent(sdf)\n",
        "        answer = agent.chat(query)\n",
        "\n",
        "        # Store query and answer in session state\n",
        "        st.session_state.query_history.append((query, answer))\n",
        "\n",
        "        # Display the answer\n",
        "        st.write(\"Answer:\", answer)\n",
        "\n",
        "        # Optionally show the generated code\n",
        "        if st.checkbox(\"Show Generated Code\"):\n",
        "            st.code(agent.last_code_generated)\n",
        "\n",
        "        # Display the query history\n",
        "        st.write(\"### Previous Queries and Answers\")\n",
        "        for idx, (q, a) in enumerate(st.session_state.query_history):\n",
        "            st.write(f\"**Query {idx + 1}:** {q}\")\n",
        "            st.write(f\"**Answer {idx + 1}:** {a}\")\n",
        "\n",
        "        # Visualization (example for fatalities query)\n",
        "        if \"fatalities\" in query.lower():\n",
        "            st.write(\"Rendering a plot of fatalities...\")\n",
        "            # Generate Plotly visualization here\n",
        "            # Example: Generate a bar chart for fatalities by country (based on your data)\n",
        "\n",
        "    # Button for downloading the report\n",
        "    if st.button(\"Download Report\"):\n",
        "        # Generate a Markdown report (queries, answers, code)\n",
        "        with open(\"report.md\", \"w\") as file:\n",
        "            file.write(f\"# Report\\n\\n\")\n",
        "            for idx, (q, a) in enumerate(st.session_state.query_history):\n",
        "                file.write(f\"### Query {idx + 1}\\n\")\n",
        "                file.write(f\"{q}\\n\")\n",
        "                file.write(f\"### Answer {idx + 1}\\n\")\n",
        "                file.write(f\"{a}\\n\")\n",
        "                file.write(f\"### Generated Code\\n\")\n",
        "                file.write(f\"```python\\n{agent.last_code_generated}\\n```\\n\")\n",
        "        st.write(\"Report saved as 'report.md'.\")\n",
        "\n",
        "# Dataset Reset Button\n",
        "if st.button(\"Switch Dataset\"):\n",
        "    st.session_state.df = None  # Reset the dataframe\n",
        "    st.write(\"Dataset has been reset. Please upload a new one.\")\n"
      ],
      "metadata": {
        "id": "e3NyRDdYR58A"
      },
      "execution_count": null,
      "outputs": []
    }
  ]
}